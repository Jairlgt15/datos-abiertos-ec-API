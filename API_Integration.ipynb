{
 "cells": [
  {
   "cell_type": "code",
   "execution_count": null,
   "metadata": {
    "pycharm": {
     "name": "#%%\n"
    }
   },
   "outputs": [],
   "source": [
    "# API docs: http://docs.ckan.org/en/2.9/api/\n",
    "import requests # Librerias utilizadas\n",
    "import json\n",
    "import os \n",
    "\n",
    "#Query a la API\n",
    "query = input(\"Busca por palabras claves: \")\n",
    "r = requests.get(f\"https://datosabiertos.gob.ec/api/3/action/package_search?q={query}\")\n",
    "data = r.json()\n",
    "#Results esta dentro del archivo json, el resuts es un subconjutno de result\n",
    "number_of_suggestions = len(data[\"result\"][\"results\"])\n",
    "print(f\"Se han encontrado {number_of_suggestions} coincidencias: \\n\")\n",
    "\n",
    "# Muestra los conjuntos de datos\n",
    "for i in range(0, number_of_suggestions):\n",
    "    print(json.dumps(data[\"result\"][\"results\"][i][\"name\"],indent = 4, sort_keys = True))"
   ]
  },
  {
   "cell_type": "code",
   "execution_count": null,
   "metadata": {
    "pycharm": {
     "name": "#%%\n"
    }
   },
   "outputs": [],
   "source": [
    "# Ingresa el nombre de un conjunto de datos mostrado arriba.\n",
    "query_conjuntos = input(\"Ingrese el nombre del conjunto elegido: \")\n",
    "\n",
    "# Crea una carpeta con el nombre del conjunto de datos.\n",
    "# Se creara en la carpeta gitRepositorioLocal\n",
    "os.system(f\"mkdir ../Docs/hub_uio/data/{query_conjuntos}\")\n",
    "\n",
    "# Query a la API\n",
    "r = requests.get(f\"https://datosabiertos.gob.ec/api/3/action/package_search?q={query_conjuntos}\")\n",
    "data = r.json()\n",
    "\n",
    "# Working with Json File\n",
    "number_of_files = len(data[\"result\"][\"results\"][0][\"resources\"])\n",
    "print(\"Nombre del conjunto: \", query_conjuntos, \"\\n\")\n",
    "\n",
    "json_resources = data[\"result\"][\"results\"][0][\"resources\"]\n",
    "\n",
    "for i in range(0, number_of_files):\n",
    "    print(\"\\n\")\n",
    "    print('Recurso numero: ', i)\n",
    "\n",
    "    file_name = json.dumps(json_resources[i][\"name\"],indent = 4, sort_keys = True)\n",
    "    print(\"Nombre: \" , file_name )\n",
    "\n",
    "    # Resource link\n",
    "    link = json.dumps(json_resources[i][\"url\"],indent = 4, sort_keys = True)\n",
    "    #formatted the link\n",
    "    formatted_link = str(link).replace('\"','')\n",
    "\n",
    "    # Download the data\n",
    "    json_to_data = requests.get(formatted_link).content\n",
    "    print(\"file: \" , formatted_link[formatted_link.find('download')+9:])\n",
    "    #with open(f\"data/{query_conjuntos}\"+ \"/\" + formatted_link[formatted_link.find('download')+9:],'wb') as file:\n",
    "        #file.write(json_to_data)\n",
    "    \n",
    "   # print('Datos descargados.')\n"
   ]
  },
  {
   "cell_type": "code",
   "execution_count": null,
   "metadata": {},
   "outputs": [],
   "source": []
  }
 ],
 "metadata": {
  "kernelspec": {
   "display_name": "Python 3 (ipykernel)",
   "language": "python",
   "name": "python3"
  },
  "language_info": {
   "codemirror_mode": {
    "name": "ipython",
    "version": 3
   },
   "file_extension": ".py",
   "mimetype": "text/x-python",
   "name": "python",
   "nbconvert_exporter": "python",
   "pygments_lexer": "ipython3",
   "version": "3.10.0"
  },
  "vscode": {
   "interpreter": {
    "hash": "aee8b7b246df8f9039afb4144a1f6fd8d2ca17a180786b69acc140d282b71a49"
   }
  }
 },
 "nbformat": 4,
 "nbformat_minor": 2
}
