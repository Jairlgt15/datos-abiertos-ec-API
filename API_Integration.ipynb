{
 "cells": [
  {
   "cell_type": "code",
   "execution_count": 34,
   "metadata": {},
   "outputs": [
    {
     "name": "stdout",
     "output_type": "stream",
     "text": [
      "Se han encontrado 7 coincidencias: \n",
      "\n",
      "\"colocacion-por-zonal\"\n",
      "\"colocacion-por-segmento\"\n",
      "\"colocacion-por-sector\"\n",
      "\"colocacion-por-provincia\"\n",
      "\"colocacion-por-genero\"\n",
      "\"colocacion-por-ano\"\n",
      "\"colocacion-por-zonal-oficina\"\n"
     ]
    }
   ],
   "source": [
    "# API docs: http://docs.ckan.org/en/2.9/api/\n",
    "import requests # Librerias utilizadas\n",
    "import json\n",
    "import os \n",
    "\n",
    "# Query a la API\n",
    "query = input(\"Busca por palabras claves: \")\n",
    "r = requests.get(f\"https://datosabiertos.gob.ec/api/3/action/package_search?q={query}\")\n",
    "data = r.json()\n",
    "  \n",
    "number_of_suggestions = len(data[\"result\"][\"results\"])\n",
    "print(f\"Se han encontrado {number_of_suggestions} coincidencias: \\n\")\n",
    "\n",
    "# Muestra los conjuntos de datos\n",
    "for i in range(0, number_of_suggestions):\n",
    "    print(json.dumps(data[\"result\"][\"results\"][i][\"name\"],indent = 4, sort_keys = True))"
   ]
  },
  {
   "cell_type": "code",
   "execution_count": 32,
   "metadata": {},
   "outputs": [
    {
     "name": "stdout",
     "output_type": "stream",
     "text": [
      "Nombre del conjunto:  registro-estadistico-de-recursos-y-actividades-de-salud-2019 \n",
      "\n",
      "\n",
      "\n",
      "Recurso numero:  0\n",
      "Nombre:  \"INEC_RAS_2019\"\n",
      "file:  inec_ras_2019.csv\n",
      "Datos descargados.\n",
      "\n",
      "\n",
      "Recurso numero:  1\n",
      "Nombre:  \"INEC_RAS_DD_2019\"\n",
      "file:  inec_ras_dd_2019.ods\n",
      "Datos descargados.\n",
      "\n",
      "\n",
      "Recurso numero:  2\n",
      "Nombre:  \"INEC_RAS_PM_2019\"\n",
      "file:  inec_ras_pm_2019.ods\n",
      "Datos descargados.\n"
     ]
    }
   ],
   "source": [
    "# Ingresa el nombre de un conjunto de datos mostrado arriba.\n",
    "query_conjuntos = input(\"Ingrese el nombre del conjunto elegido: \")\n",
    "\n",
    "# Crea una carpeta con el nombre del conjunto de datos.\n",
    "os.system(f\"mkdir /Users/gutembergmendoza/Docs/hub_uio/data/{query_conjuntos}\")\n",
    "\n",
    "# Query a la API\n",
    "r = requests.get(f\"https://datosabiertos.gob.ec/api/3/action/package_search?q={query_conjuntos}\")\n",
    "data = r.json()\n",
    "\n",
    "# Working with Json File\n",
    "number_of_files = len(data[\"result\"][\"results\"][0][\"resources\"])\n",
    "print(\"Nombre del conjunto: \", query_conjuntos, \"\\n\")\n",
    "\n",
    "json_resources = data[\"result\"][\"results\"][0][\"resources\"]\n",
    "\n",
    "for i in range(0, number_of_files):\n",
    "    print(\"\\n\")\n",
    "    print('Recurso numero: ', i)\n",
    "\n",
    "    file_name = json.dumps(json_resources[i][\"name\"],indent = 4, sort_keys = True)\n",
    "    print(\"Nombre: \" , file_name )\n",
    "\n",
    "    # Resource link\n",
    "    link = json.dumps(json_resources[i][\"url\"],indent = 4, sort_keys = True)\n",
    "    #formatted the link\n",
    "    formatted_link = str(link).replace('\"','')\n",
    "\n",
    "    # Download the data\n",
    "    json_to_data = requests.get(formatted_link).content\n",
    "    print(\"file: \" , formatted_link[formatted_link.find('download')+9:])\n",
    "    with open(f\"data/{query_conjuntos}\"+ \"/\" + formatted_link[formatted_link.find('download')+9:],'wb') as file:\n",
    "        file.write(json_to_data)\n",
    "    \n",
    "    print('Datos descargados.')\n"
   ]
  }
 ],
 "metadata": {
  "kernelspec": {
   "display_name": "Python 3.10.0 64-bit",
   "language": "python",
   "name": "python3"
  },
  "language_info": {
   "codemirror_mode": {
    "name": "ipython",
    "version": 3
   },
   "file_extension": ".py",
   "mimetype": "text/x-python",
   "name": "python",
   "nbconvert_exporter": "python",
   "pygments_lexer": "ipython3",
   "version": "3.10.0"
  },
  "orig_nbformat": 4,
  "vscode": {
   "interpreter": {
    "hash": "aee8b7b246df8f9039afb4144a1f6fd8d2ca17a180786b69acc140d282b71a49"
   }
  }
 },
 "nbformat": 4,
 "nbformat_minor": 2
}
